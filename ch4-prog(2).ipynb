{
 "cells": [
  {
   "cell_type": "code",
   "execution_count": 7,
   "metadata": {},
   "outputs": [
    {
     "name": "stdout",
     "output_type": "stream",
     "text": [
      "Enter password: 123Diy@_\n",
      "valid password\n"
     ]
    }
   ],
   "source": [
    "#WAP to check the validity of password\n",
    "'''\n",
    "1.min 8 characters\n",
    "2.the alphabets must be b/w a-z\n",
    "3.atleast one alphabet should be uppercase\n",
    "4.atleast one digit b/w 0-9\n",
    "5.atleast one character from [_ or @ or $]\n",
    "'''\n",
    "pwd=input('Enter password: ')\n",
    "upper,lower,sp,digit=0,0,0,0\n",
    "if len(pwd)>=8:\n",
    "    for i in pwd:\n",
    "        if i.islower():\n",
    "            lower+=1\n",
    "        if i.isupper():\n",
    "            upper+=1\n",
    "        if i.isdigit():\n",
    "            digit+=1\n",
    "        if i=='_' or i=='@' or i=='$':\n",
    "            sp+=1\n",
    "    if lower>=1 and upper>=1 and sp>=1 and digit>=1 and lower+upper+sp+digit==len(pwd):\n",
    "        print('valid password')\n",
    "    else:\n",
    "        print('invalid password')\n",
    "else:\n",
    "    print('invalid password')"
   ]
  },
  {
   "cell_type": "code",
   "execution_count": 12,
   "metadata": {},
   "outputs": [
    {
     "name": "stdout",
     "output_type": "stream",
     "text": [
      "enter string: abcabcdxyzabc\n",
      "enter substring: abc\n",
      "found at position: 0\n",
      "found at position: 3\n",
      "found at position: 10\n",
      "total occurances: 3\n"
     ]
    }
   ],
   "source": [
    "#WAP to display all positions of a substring in a given string\n",
    "s=input('enter string: ')\n",
    "sub=input('enter substring: ')\n",
    "flag=False\n",
    "pos=-1\n",
    "n=len(s)\n",
    "c=0\n",
    "while True:\n",
    "    pos=s.find(sub,pos+1,n)\n",
    "    if pos==-1:\n",
    "        break\n",
    "    print(\"found at position:\",pos)\n",
    "    flag=True\n",
    "if flag==False:\n",
    "    print(\"not found\")\n",
    "print('total occurances:',s.count(sub))"
   ]
  },
  {
   "cell_type": "code",
   "execution_count": 15,
   "metadata": {},
   "outputs": [
    {
     "name": "stdout",
     "output_type": "stream",
     "text": [
      "enter string: agd32b1\n",
      "sorted: abdg123\n"
     ]
    }
   ],
   "source": [
    "#WAP to sort the characters of the string and 1st alphabet symbol followed by numeric values\n",
    "s=input('enter string: ')\n",
    "s1=s2=output=\"\"\n",
    "for i in s:\n",
    "    if i.isalpha():\n",
    "        s1+=i\n",
    "    if i.isdigit():\n",
    "        s2+=i\n",
    "for x in sorted(s1):\n",
    "    output+=x\n",
    "for x in sorted(s2):\n",
    "    output+=x\n",
    "print('sorted:',output)"
   ]
  },
  {
   "cell_type": "code",
   "execution_count": null,
   "metadata": {},
   "outputs": [],
   "source": [
    "# i/p=a4b3c2    o/p=aaaabbbcc\n",
    "s=input('enter string: ')\n",
    "for i in s:\n",
    "    "
   ]
  }
 ],
 "metadata": {
  "kernelspec": {
   "display_name": "Python 3",
   "language": "python",
   "name": "python3"
  },
  "language_info": {
   "codemirror_mode": {
    "name": "ipython",
    "version": 3
   },
   "file_extension": ".py",
   "mimetype": "text/x-python",
   "name": "python",
   "nbconvert_exporter": "python",
   "pygments_lexer": "ipython3",
   "version": "3.8.5"
  }
 },
 "nbformat": 4,
 "nbformat_minor": 4
}
