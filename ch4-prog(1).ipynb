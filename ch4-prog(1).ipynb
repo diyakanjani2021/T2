{
 "cells": [
  {
   "cell_type": "code",
   "execution_count": 6,
   "metadata": {},
   "outputs": [
    {
     "name": "stdout",
     "output_type": "stream",
     "text": [
      "enter index 2\n",
      "Helo World\n"
     ]
    }
   ],
   "source": [
    "#WAP to remove ith character from the string\n",
    "s=\"Hello World\"\n",
    "n=int(input('enter index '))\n",
    "x=s[:n]+s[n+1:]\n",
    "print(x)"
   ]
  },
  {
   "cell_type": "code",
   "execution_count": 8,
   "metadata": {},
   "outputs": [
    {
     "name": "stdout",
     "output_type": "stream",
     "text": [
      "4\n"
     ]
    }
   ],
   "source": [
    "#WAP to find all occurances of a substring in a given string by ignoring the case\n",
    "s=\"Welcome to USA.usa is awesome.Usain is from USA.\"\n",
    "sub=\"usa\"\n",
    "s1=s.lower()\n",
    "print(s1.count(sub))"
   ]
  },
  {
   "cell_type": "code",
   "execution_count": 19,
   "metadata": {},
   "outputs": [
    {
     "name": "stdout",
     "output_type": "stream",
     "text": [
      "sum =  22\n",
      "avg =  3.142857142857143\n"
     ]
    }
   ],
   "source": [
    "#WAP to calculate sum and avg of the digits present in a string\n",
    "s=\"pyt@$123th%4237\"\n",
    "sum=0\n",
    "avg=0\n",
    "count=0\n",
    "for i in s:\n",
    "    if i.isdigit():\n",
    "        count+=1\n",
    "        sum=sum+int(i)\n",
    "print(\"sum = \",sum)\n",
    "print(\"avg = \",sum/count)"
   ]
  },
  {
   "cell_type": "code",
   "execution_count": 25,
   "metadata": {},
   "outputs": [
    {
     "name": "stdout",
     "output_type": "stream",
     "text": [
      "enter string: pyt@$123th%4237\n",
      "New string: pyt##123th#4237\n"
     ]
    }
   ],
   "source": [
    "#WAP to replace each special symbol with # in the given string\n",
    "import string\n",
    "s=input('enter string: ')\n",
    "for i in string.punctuation:\n",
    "    s=s.replace(i,\"#\")\n",
    "print(\"New string:\",s)"
   ]
  },
  {
   "cell_type": "code",
   "execution_count": 26,
   "metadata": {},
   "outputs": [
    {
     "name": "stdout",
     "output_type": "stream",
     "text": [
      "min= 10 max= 50\n"
     ]
    }
   ],
   "source": [
    "#WAP to print min and max element in a given tuple without use of min max func and without sorting\n",
    "t=(10,30,40,20,50)\n",
    "min=t[0]\n",
    "max=t[0]\n",
    "for i in t:\n",
    "    if i<min:\n",
    "        min=i\n",
    "    if i>max:\n",
    "        max=i\n",
    "print(\"min=\",min,\"max=\",max)"
   ]
  },
  {
   "cell_type": "code",
   "execution_count": 30,
   "metadata": {},
   "outputs": [
    {
     "name": "stdout",
     "output_type": "stream",
     "text": [
      "to LJ University "
     ]
    }
   ],
   "source": [
    "#WAP to print even length words in a given string\n",
    "s=\"Welcome to LJ University\"  \n",
    "l=s.split()\n",
    "for i in l:\n",
    "    if len(i)%2==0:\n",
    "        print(i,end=\" \")"
   ]
  },
  {
   "cell_type": "code",
   "execution_count": 39,
   "metadata": {},
   "outputs": [
    {
     "name": "stdout",
     "output_type": "stream",
     "text": [
      "5\n",
      "UNIVErsity\n"
     ]
    }
   ],
   "source": [
    "#WAP to upper case the half string\n",
    "s=\"University\"\n",
    "l=len(s)//2\n",
    "print(l)\n",
    "print(s[:l].upper()+s[l:])"
   ]
  },
  {
   "cell_type": "code",
   "execution_count": 48,
   "metadata": {},
   "outputs": [
    {
     "name": "stdout",
     "output_type": "stream",
     "text": [
      "enter string: Welcome to lj university\n",
      "WelcomE TO LJ UniversitY \n"
     ]
    }
   ],
   "source": [
    "#WAP to capitalize first and last letter of each word\n",
    "s=input('enter string: ')\n",
    "s=s.title()\n",
    "result=\"\"\n",
    "for i in s.split():\n",
    "    result+=i[:-1]+i[-1].upper()+\" \"\n",
    "print(result)"
   ]
  },
  {
   "cell_type": "code",
   "execution_count": 54,
   "metadata": {},
   "outputs": [
    {
     "name": "stdout",
     "output_type": "stream",
     "text": [
      "enter 1st string: diya\n",
      "enter 2nd string: ayid\n",
      "balanced\n"
     ]
    }
   ],
   "source": [
    "#WAP to check two strings are balanced\n",
    "#if all the characters of s1 are present in s2\n",
    "#characters position doesn't matter\n",
    "s1=input('enter 1st string: ')\n",
    "s2=input('enter 2nd string: ')\n",
    "flag=0\n",
    "for i in s1:\n",
    "    if i in s2:\n",
    "        continue\n",
    "    else:\n",
    "        flag=1\n",
    "        break\n",
    "if flag==1:\n",
    "    print(\"not balanced\")\n",
    "else:\n",
    "    print(\"balanced\")"
   ]
  },
  {
   "cell_type": "code",
   "execution_count": 62,
   "metadata": {},
   "outputs": [
    {
     "name": "stdout",
     "output_type": "stream",
     "text": [
      "enter the number: 12345\n",
      "enter the shift: 6\n",
      "54321\n"
     ]
    }
   ],
   "source": [
    "'''input:  n=12345  shift=3, n=12345 shift=5, n=12345 shift=6\n",
    "   output: result=45123, result=12345, result=54321 '''\n",
    "#WAP to shift the decimal digits and places to the left wrapping the extra digits around\n",
    "#if shift is > the no of digits then reverse the digits\n",
    "n=int(input('enter the number: '))\n",
    "shift=int(input('enter the shift: '))\n",
    "result=0\n",
    "num=str(n)\n",
    "if shift>len(num):\n",
    "    result=num[::-1]\n",
    "else:\n",
    "    result=num[shift:]+num[:shift]\n",
    "print(result)"
   ]
  }
 ],
 "metadata": {
  "kernelspec": {
   "display_name": "Python 3",
   "language": "python",
   "name": "python3"
  },
  "language_info": {
   "codemirror_mode": {
    "name": "ipython",
    "version": 3
   },
   "file_extension": ".py",
   "mimetype": "text/x-python",
   "name": "python",
   "nbconvert_exporter": "python",
   "pygments_lexer": "ipython3",
   "version": "3.8.5"
  }
 },
 "nbformat": 4,
 "nbformat_minor": 4
}
