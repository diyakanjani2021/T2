{
 "cells": [
  {
   "cell_type": "code",
   "execution_count": 8,
   "metadata": {},
   "outputs": [
    {
     "name": "stdout",
     "output_type": "stream",
     "text": [
      "enter list: [1,3,5,7,9]\n",
      "largest even no 0\n",
      "largest odd no 9\n"
     ]
    }
   ],
   "source": [
    "#WAP to print the largest even and largest odd no in the list\n",
    "l=eval(input('enter list: '))\n",
    "max=l[0]\n",
    "maxe=l[0]\n",
    "maxo=l[0]\n",
    "'''for i in l:\n",
    "        if i%2==0:\n",
    "            maxe=i\n",
    "        if i%2==1:\n",
    "            maxo=i'''\n",
    "for i in l: \n",
    "    if max<i:\n",
    "        max=i\n",
    "        if max%2==0:\n",
    "            maxe=max\n",
    "        else:\n",
    "            maxo=max\n",
    "if maxo%2==0:\n",
    "    maxo=0\n",
    "if maxe%2!=0:\n",
    "    maxe=0\n",
    "print('largest even no',maxe)\n",
    "print('largest odd no',maxo)"
   ]
  },
  {
   "cell_type": "code",
   "execution_count": 9,
   "metadata": {},
   "outputs": [
    {
     "name": "stdout",
     "output_type": "stream",
     "text": [
      "{'the': 2, 'quick': 1, 'brown': 1, 'fox': 1, 'jumps': 1, 'over': 1, 'lazy': 1, 'dog': 1}\n"
     ]
    }
   ],
   "source": [
    "#WAP that reads the words from paragraph and stores them as key in a dict and count the freq of it as a value\n",
    "s=\"the quick brown fox jumps over the lazy dog\"\n",
    "l=s.split()\n",
    "d={}\n",
    "for i in l:\n",
    "    c=l.count(i)\n",
    "    d.setdefault(i,c)\n",
    "print(d)"
   ]
  },
  {
   "cell_type": "code",
   "execution_count": 7,
   "metadata": {},
   "outputs": [
    {
     "name": "stdout",
     "output_type": "stream",
     "text": [
      "{'D': [\"Don't\"], 'w': ['wait'], 'f': ['for', 'feelings'], 'y': ['your'], 't': ['to', 'to', 'take', 'the'], 'c': ['change'], 'a': ['action']}\n"
     ]
    }
   ],
   "source": [
    "#WAP to create a dict with the key as the first character and value as a list of words starting with that character\n",
    "s=\"Don't wait for your feelings to change to take the action\"\n",
    "l=s.split()\n",
    "d={}\n",
    "for i in l:\n",
    "    key=i[0]\n",
    "    if key in d:\n",
    "        d[key].append(i)\n",
    "    else:\n",
    "        d[key]=[i]\n",
    "print(d)"
   ]
  },
  {
   "cell_type": "code",
   "execution_count": 20,
   "metadata": {},
   "outputs": [
    {
     "name": "stdout",
     "output_type": "stream",
     "text": [
      "['CampusX', 'is', 'the best channel', 'for', 'Data-Science', 'students']\n",
      "CampusX is the best channel for Data-Science students\n"
     ]
    }
   ],
   "source": [
    "#WAP to replace words from dict.You are given a string,replace its words from look up dict\n",
    "s=\"CampusX is best for DS students\"\n",
    "d={\"best\":\"the best channel\",\"DS\":\"Data-Science\"}\n",
    "l=s.split()\n",
    "l1=[]\n",
    "for i in l:\n",
    "    if i in d:\n",
    "        l1.append(d[i])\n",
    "    else:\n",
    "        l1.append(i)\n",
    "print(l1)\n",
    "print(\" \".join(l1))"
   ]
  },
  {
   "cell_type": "code",
   "execution_count": 1,
   "metadata": {},
   "outputs": [
    {
     "name": "stdout",
     "output_type": "stream",
     "text": [
      "enter list[10,22,12,24,22,48,46,22]\n",
      "enter element to remove22\n",
      "[10, 12, 24, 48, 46]\n"
     ]
    }
   ],
   "source": [
    "#WAP to remove all occurrances of an element from a given list\n",
    "l=eval(input('enter list '))\n",
    "n=int(input('enter element to remove '))\n",
    "for i in l:\n",
    "    if i==n:\n",
    "        l.remove(n)\n",
    "print(l)"
   ]
  },
  {
   "cell_type": "code",
   "execution_count": 5,
   "metadata": {},
   "outputs": [
    {
     "name": "stdout",
     "output_type": "stream",
     "text": [
      "[1, 4, 5]\n"
     ]
    }
   ],
   "source": [
    "#WAP to find the index at which the elements of 2 list does not match\n",
    "l1=[1,2,3,4,5,6]\n",
    "l2=[1,5,3,4,7,8]\n",
    "l3=[]\n",
    "for i in range(len(l1)):\n",
    "    if l1[i]!=l2[i]:\n",
    "        l3.append(i)\n",
    "print(l3)"
   ]
  },
  {
   "cell_type": "markdown",
   "metadata": {},
   "source": [
    "Balanced list\n",
    "---\n",
    "1. [5,5,2,5,8]\n",
    "- index to be removed:0\n",
    "- list after removing index:[5,2,5,8]\n",
    "- index to be removed:1\n",
    "- list after removing index:[5,2,5,8]\n",
    "2. [2,1,6,4]\n",
    "- index to be removed:1\n",
    "- list after removing index:[2,6,4]"
   ]
  },
  {
   "cell_type": "code",
   "execution_count": 15,
   "metadata": {},
   "outputs": [
    {
     "name": "stdout",
     "output_type": "stream",
     "text": [
      "enter list: [2,1,6,4]\n",
      "original list [2, 1, 6, 4]\n",
      "index to be removed is 1\n",
      "lisi after removing index 1 is [2, 6, 4]\n",
      "total no of special elements 1\n"
     ]
    }
   ],
   "source": [
    "#Given a list l of size n.You need to count the no. of special elements in the given list\n",
    "#An element is special if the removal of that element makes the list balanced\n",
    "#The list will be balanced if sum of even index element=the sum of odd index elements\n",
    "#Also print the updated list after removal of special elements\n",
    "l=eval(input('enter list: '))\n",
    "print('original list',l)\n",
    "count=0\n",
    "for i in range(len(l)):\n",
    "    c=l.copy()\n",
    "    c.pop(i)\n",
    "    se=so=0\n",
    "    for k in c[::2]:\n",
    "        se+=k\n",
    "    for k in c[1::2]:\n",
    "        so+=k\n",
    "        if se==so:\n",
    "            print('index to be removed is',i)\n",
    "            count+=1\n",
    "            print('lisi after removing index',i,'is',l[0:i]+l[i+1:])\n",
    "print('total no of special elements',count)"
   ]
  },
  {
   "cell_type": "code",
   "execution_count": 21,
   "metadata": {},
   "outputs": [
    {
     "name": "stdout",
     "output_type": "stream",
     "text": [
      "['APPLE', 'BANANA', 'CHERRY']\n",
      "['APPLE', 'BANANA', 'CHERRY']\n"
     ]
    }
   ],
   "source": [
    "#WAP to convert string to upper case using map()\n",
    "w=['apple','banana','cherry']\n",
    "l=list(map(str.upper,w))\n",
    "print(l)\n",
    "l=list(map(lambda x:x.upper(),w))\n",
    "print(l)"
   ]
  },
  {
   "cell_type": "code",
   "execution_count": 22,
   "metadata": {},
   "outputs": [
    {
     "name": "stdout",
     "output_type": "stream",
     "text": [
      "['banana', 'cherry', 'strawberry']\n"
     ]
    }
   ],
   "source": [
    "#WAP to filter words with length greater than 5\n",
    "w=['apple','banana','cherry','strawberry','kiwi']\n",
    "l=list(filter(lambda x:len(x)>5,w))\n",
    "print(l)"
   ]
  },
  {
   "cell_type": "code",
   "execution_count": 1,
   "metadata": {},
   "outputs": [
    {
     "name": "stdout",
     "output_type": "stream",
     "text": [
      "[19, 26, 39, 52, 65, 13, 78]\n"
     ]
    }
   ],
   "source": [
    "#WAP to find numbers divisible by 19 or 13 from a list of nos using lambda\n",
    "n=[19,26,39,52,65,13,78,90]\n",
    "l=list(filter(lambda x:x%19==0 or x%13==0,n))\n",
    "print(l)"
   ]
  },
  {
   "cell_type": "code",
   "execution_count": 9,
   "metadata": {},
   "outputs": [
    {
     "name": "stdout",
     "output_type": "stream",
     "text": [
      "['apple', 'banana', 'cherry', 'date', 'kiwi']\n",
      "['kiwi', 'date', 'cherry', 'banana', 'apple']\n",
      "['date', 'kiwi', 'apple', 'banana', 'cherry']\n",
      "['banana', 'cherry', 'apple', 'date', 'kiwi']\n",
      "['orange', 'cherry', 'apple', 'date', 'kiwi']\n"
     ]
    }
   ],
   "source": [
    "#sorted()\n",
    "#sort()\n",
    "#sorted() will work for every and sort() will only work for list\n",
    "a=['apple','banana','cherry','date','kiwi']\n",
    "l=sorted(a)\n",
    "print(l)\n",
    "l=sorted(a,reverse=True)\n",
    "print(l)\n",
    "l=sorted(a,key=len)\n",
    "print(l)\n",
    "l=sorted(a,key=len,reverse=True)\n",
    "print(l)\n",
    "a=['apple','orange','cherry','date','kiwi']\n",
    "l=sorted(a,key=len,reverse=True)\n",
    "print(l)"
   ]
  },
  {
   "cell_type": "code",
   "execution_count": 17,
   "metadata": {},
   "outputs": [
    {
     "name": "stdout",
     "output_type": "stream",
     "text": [
      "['banana', 'apple', 'date', 'kiwi', 'cherry']\n",
      "['banana', 'apple', 'date', 'kiwi', 'cherry']\n"
     ]
    }
   ],
   "source": [
    "a=['apple','banana','cherry','date','kiwi']\n",
    "def fun(word):\n",
    "    return word[-1]\n",
    "l=sorted(a,key=fun)\n",
    "print(l)\n",
    "l=sorted(a,key=lambda word:word[-1])\n",
    "print(l)"
   ]
  },
  {
   "cell_type": "code",
   "execution_count": 19,
   "metadata": {},
   "outputs": [
    {
     "name": "stdout",
     "output_type": "stream",
     "text": [
      "[(3, 1), (2, 2), (1, 3)]\n"
     ]
    }
   ],
   "source": [
    "a=[(1,3),(2,2),(3,1)]\n",
    "l=sorted(a,key=lambda word:word[1])\n",
    "print(l)"
   ]
  },
  {
   "cell_type": "code",
   "execution_count": 21,
   "metadata": {},
   "outputs": [
    {
     "name": "stdout",
     "output_type": "stream",
     "text": [
      "['date', 'kiwi', 'apple', 'banana']\n"
     ]
    }
   ],
   "source": [
    "a=['apple','banana','date','kiwi']\n",
    "a.sort(key=len)\n",
    "print(a)"
   ]
  },
  {
   "cell_type": "code",
   "execution_count": 24,
   "metadata": {},
   "outputs": [
    {
     "name": "stdout",
     "output_type": "stream",
     "text": [
      "['apple', 'banana#cherry#orange#kiwi']\n",
      "['apple', 'banana', 'cherry#orange#kiwi']\n",
      "['apple', 'banana', 'cherry', 'orange#kiwi']\n",
      "['apple', 'banana', 'cherry', 'orange', 'kiwi']\n"
     ]
    }
   ],
   "source": [
    "txt='apple#banana#cherry#orange#kiwi'\n",
    "x=txt.split(\"#\",1)\n",
    "print(x)\n",
    "y=txt.split(\"#\",2)\n",
    "print(y)\n",
    "z=txt.split(\"#\",3)\n",
    "print(z)\n",
    "l=txt.split(\"#\")\n",
    "print(l)"
   ]
  },
  {
   "cell_type": "code",
   "execution_count": 26,
   "metadata": {},
   "outputs": [
    {
     "name": "stdout",
     "output_type": "stream",
     "text": [
      "(1, 2, 3, True, False)\n",
      "12\n"
     ]
    }
   ],
   "source": [
    "#MCQ\n",
    "def f1(*m):\n",
    "    print(m)\n",
    "    sum1=len(m)\n",
    "    for i in m:\n",
    "        sum1+=i\n",
    "    return sum1\n",
    "x=f1(1,2,3,(4,)==(4,),(5,)==(5))\n",
    "print(x)\n",
    "# len=5 so sum1=5 then 5+1+2+3=11 then true=1 and false=0 so 11+1=12"
   ]
  },
  {
   "cell_type": "code",
   "execution_count": 31,
   "metadata": {},
   "outputs": [
    {
     "name": "stdout",
     "output_type": "stream",
     "text": [
      "how many pizza you want to order 1\n",
      "select size: 1.small-50 2.medium-100 3.large-200 1\n",
      "select toppings: corn,tomato,onion,capsicum-20 each,mushroom,olives,brocolli-50 each corn\n",
      "select cheese type: 1.feta 2.mozarella 3.cheddar-50 each 1\n",
      "invalid input\n"
     ]
    }
   ],
   "source": [
    "#calculate pizza price\n",
    "price=0\n",
    "a=int(input('how many pizza you want to order '))\n",
    "b=int(input('select size: 1.small-50 2.medium-100 3.large-200 '))\n",
    "c=input('select toppings: corn,tomato,onion,capsicum-20 each,mushroom,olives,brocolli-50 each ')\n",
    "d=int(input('select cheese type: 1.feta 2.mozarella 3.cheddar-50 each '))\n",
    "l1=['corn','tomato','onion','capsicum']\n",
    "l2=['mushroom','olives','brocoli']\n",
    "for i in range(b):\n",
    "    if i==1:\n",
    "        price+=50\n",
    "    elif i==2:\n",
    "        price+=100\n",
    "    elif i==3:\n",
    "        price+=200\n",
    "    else:\n",
    "        print('invalid input')\n",
    "#for i in range(len(l1)):\n",
    " #   if i=l[0]:\n",
    "        "
   ]
  }
 ],
 "metadata": {
  "kernelspec": {
   "display_name": "Python 3",
   "language": "python",
   "name": "python3"
  },
  "language_info": {
   "codemirror_mode": {
    "name": "ipython",
    "version": 3
   },
   "file_extension": ".py",
   "mimetype": "text/x-python",
   "name": "python",
   "nbconvert_exporter": "python",
   "pygments_lexer": "ipython3",
   "version": "3.8.5"
  }
 },
 "nbformat": 4,
 "nbformat_minor": 4
}
