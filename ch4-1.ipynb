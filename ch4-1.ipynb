{
 "cells": [
  {
   "cell_type": "markdown",
   "metadata": {},
   "source": [
    "Immutable Data Structures:\n",
    "------------\n",
    "1.string\n",
    "\n",
    "2.tuple"
   ]
  },
  {
   "cell_type": "markdown",
   "metadata": {},
   "source": [
    "Accessing characters of string:\n",
    "-----\n",
    "1.By using indexing\n",
    "\n",
    "2.By using slicing operator"
   ]
  },
  {
   "cell_type": "code",
   "execution_count": 1,
   "metadata": {},
   "outputs": [
    {
     "name": "stdout",
     "output_type": "stream",
     "text": [
      "J\n",
      "y\n",
      "r\n"
     ]
    },
    {
     "ename": "IndexError",
     "evalue": "string index out of range",
     "output_type": "error",
     "traceback": [
      "\u001b[1;31m---------------------------------------------------------------------------\u001b[0m",
      "\u001b[1;31mIndexError\u001b[0m                                Traceback (most recent call last)",
      "\u001b[1;32m<ipython-input-1-3d539658f947>\u001b[0m in \u001b[0;36m<module>\u001b[1;34m\u001b[0m\n\u001b[0;32m      3\u001b[0m \u001b[0mprint\u001b[0m\u001b[1;33m(\u001b[0m\u001b[0ms\u001b[0m\u001b[1;33m[\u001b[0m\u001b[1;33m-\u001b[0m\u001b[1;36m1\u001b[0m\u001b[1;33m]\u001b[0m\u001b[1;33m)\u001b[0m\u001b[1;33m\u001b[0m\u001b[1;33m\u001b[0m\u001b[0m\n\u001b[0;32m      4\u001b[0m \u001b[0mprint\u001b[0m\u001b[1;33m(\u001b[0m\u001b[0ms\u001b[0m\u001b[1;33m[\u001b[0m\u001b[1;33m-\u001b[0m\u001b[1;36m5\u001b[0m\u001b[1;33m]\u001b[0m\u001b[1;33m)\u001b[0m\u001b[1;33m\u001b[0m\u001b[1;33m\u001b[0m\u001b[0m\n\u001b[1;32m----> 5\u001b[1;33m \u001b[0mprint\u001b[0m\u001b[1;33m(\u001b[0m\u001b[0ms\u001b[0m\u001b[1;33m[\u001b[0m\u001b[1;36m20\u001b[0m\u001b[1;33m]\u001b[0m\u001b[1;33m)\u001b[0m\u001b[1;33m\u001b[0m\u001b[1;33m\u001b[0m\u001b[0m\n\u001b[0m",
      "\u001b[1;31mIndexError\u001b[0m: string index out of range"
     ]
    }
   ],
   "source": [
    "s=\"LJ University\"\n",
    "print(s[1])\n",
    "print(s[-1])\n",
    "print(s[-5])\n",
    "print(s[20])"
   ]
  },
  {
   "cell_type": "markdown",
   "metadata": {},
   "source": [
    "Slicing\n",
    "-----\n",
    "Syntax:\n",
    "\n",
    "s[begin index:end index:step]  by default step=1"
   ]
  },
  {
   "cell_type": "code",
   "execution_count": 11,
   "metadata": {},
   "outputs": [
    {
     "name": "stdout",
     "output_type": "stream",
     "text": [
      "earnin\n",
      "eri\n",
      "earnin\n",
      "Learnin\n",
      "Python is very easy!!\n",
      "Learning Python is very easy!!\n",
      "Learning Python is very easy!!\n",
      "!!ysae yrev si nohtyP gninraeL\n",
      "\n",
      "!!y\n"
     ]
    }
   ],
   "source": [
    "s=\"Learning Python is very easy!!\"\n",
    "print(s[1:7:1])\n",
    "print(s[1:7:2])\n",
    "print(s[1:7])\n",
    "print(s[:7])\n",
    "print(s[9:])\n",
    "print(s[::])\n",
    "print(s[:])\n",
    "print(s[::-1]) # reverse\n",
    "print(s[-1:-4]) # no o/p\n",
    "print(s[-1:-4:-1])"
   ]
  },
  {
   "cell_type": "markdown",
   "metadata": {},
   "source": [
    "Mathematical operations for string:\n",
    "----\n",
    "concatenation--->+\n",
    "\n",
    "repetition or string multiplication--->*"
   ]
  },
  {
   "cell_type": "code",
   "execution_count": 12,
   "metadata": {},
   "outputs": [
    {
     "name": "stdout",
     "output_type": "stream",
     "text": [
      "ArmanDhairya\n",
      "LuckyLuckyLucky\n"
     ]
    }
   ],
   "source": [
    "print(\"Arman\"+\"Dhairya\")\n",
    "print(\"Lucky\"*3)"
   ]
  },
  {
   "cell_type": "code",
   "execution_count": 19,
   "metadata": {},
   "outputs": [
    {
     "name": "stdout",
     "output_type": "stream",
     "text": [
      "enter 1st string Arman\n",
      "enter 2nd string Aryan\n",
      "2nd string is greater\n"
     ]
    }
   ],
   "source": [
    "#Comparison of string\n",
    "#Based on ascii value\n",
    "s1=input(\"enter 1st string \")\n",
    "s2=input(\"enter 2nd string \")\n",
    "if s1==s2:\n",
    "    print(\"Both strings are equal\")\n",
    "elif s1<s2:\n",
    "    print(\"2nd string is greater\")\n",
    "else:\n",
    "    print(\"1st string is greater\")"
   ]
  },
  {
   "cell_type": "markdown",
   "metadata": {},
   "source": [
    "Joining of string:\n",
    "---\n",
    "Syntax:\n",
    "\n",
    "s=separator.join(group of strings)"
   ]
  },
  {
   "cell_type": "code",
   "execution_count": 23,
   "metadata": {},
   "outputs": [
    {
     "name": "stdout",
     "output_type": "stream",
     "text": [
      "Apple-Banana-Cherry\n",
      "Apple@Banana@Cherry\n"
     ]
    }
   ],
   "source": [
    "t=(\"Apple\",\"Banana\",\"Cherry\")\n",
    "s=\"-\".join(t)\n",
    "print(s)\n",
    "s=\"@\".join(t)\n",
    "print(s)"
   ]
  },
  {
   "cell_type": "code",
   "execution_count": 27,
   "metadata": {},
   "outputs": [
    {
     "name": "stdout",
     "output_type": "stream",
     "text": [
      "Arman's salary is 50000 and his age is 24\n",
      "Arman's salary is 50000 and his age is 24\n",
      "50000's salary is Arman and his age is 24\n"
     ]
    }
   ],
   "source": [
    "# Formatting of string\n",
    "name=\"Arman\"\n",
    "salary=50000\n",
    "age=24\n",
    "print(\"{}'s salary is {} and his age is {}\".format(name,salary,age)) #if we remove {} then it's blank\n",
    "print(\"{0}'s salary is {1} and his age is {2}\".format(name,salary,age))\n",
    "print(\"{1}'s salary is {0} and his age is {2}\".format(name,salary,age))"
   ]
  },
  {
   "cell_type": "markdown",
   "metadata": {},
   "source": [
    "# Important Functions of String:"
   ]
  },
  {
   "cell_type": "code",
   "execution_count": 28,
   "metadata": {},
   "outputs": [
    {
     "name": "stdout",
     "output_type": "stream",
     "text": [
      "13\n"
     ]
    }
   ],
   "source": [
    "# 1.len()\n",
    "a=\"LJ University\"\n",
    "print(len(a))"
   ]
  },
  {
   "cell_type": "code",
   "execution_count": 37,
   "metadata": {},
   "outputs": [
    {
     "name": "stdout",
     "output_type": "stream",
     "text": [
      "9\n",
      "6\n",
      "banana\n"
     ]
    }
   ],
   "source": [
    "# 2.Removing spaces from string\n",
    "# (a) rstrip()\n",
    "t=\"banana   \"\n",
    "r=t.rstrip()\n",
    "print(len(t))\n",
    "print(len(r))\n",
    "print(r)"
   ]
  },
  {
   "cell_type": "code",
   "execution_count": 38,
   "metadata": {},
   "outputs": [
    {
     "name": "stdout",
     "output_type": "stream",
     "text": [
      "9\n",
      "9\n",
      "banana   \n"
     ]
    }
   ],
   "source": [
    "t=\"banana   \"\n",
    "r=t.rstrip(\"a\")\n",
    "print(len(t))\n",
    "print(len(r))\n",
    "print(r)"
   ]
  },
  {
   "cell_type": "code",
   "execution_count": 39,
   "metadata": {},
   "outputs": [
    {
     "name": "stdout",
     "output_type": "stream",
     "text": [
      "6\n",
      "5\n",
      "banan\n"
     ]
    }
   ],
   "source": [
    "t=\"banana\"\n",
    "r=t.rstrip(\"a\")\n",
    "print(len(t))\n",
    "print(len(r))\n",
    "print(r)"
   ]
  },
  {
   "cell_type": "code",
   "execution_count": 40,
   "metadata": {},
   "outputs": [
    {
     "name": "stdout",
     "output_type": "stream",
     "text": [
      "6\n",
      "1\n",
      "b\n"
     ]
    }
   ],
   "source": [
    "t=\"banana\"\n",
    "r=t.rstrip(\"an\")\n",
    "print(len(t))\n",
    "print(len(r))\n",
    "print(r)"
   ]
  },
  {
   "cell_type": "code",
   "execution_count": 41,
   "metadata": {},
   "outputs": [
    {
     "name": "stdout",
     "output_type": "stream",
     "text": [
      "7\n",
      "4\n",
      "band\n"
     ]
    }
   ],
   "source": [
    "t=\"bandana\"\n",
    "r=t.rstrip(\"an\")\n",
    "print(len(t))\n",
    "print(len(r))\n",
    "print(r)"
   ]
  },
  {
   "cell_type": "code",
   "execution_count": 42,
   "metadata": {},
   "outputs": [
    {
     "name": "stdout",
     "output_type": "stream",
     "text": [
      "9\n",
      "6\n",
      "banana\n"
     ]
    }
   ],
   "source": [
    "# 2.Removing spaces from string\n",
    "# (b) lstrip()\n",
    "t=\"   banana\"\n",
    "r=t.lstrip()\n",
    "print(len(t))\n",
    "print(len(r))\n",
    "print(r)"
   ]
  },
  {
   "cell_type": "code",
   "execution_count": 45,
   "metadata": {},
   "outputs": [
    {
     "name": "stdout",
     "output_type": "stream",
     "text": [
      "dana\n"
     ]
    }
   ],
   "source": [
    "t=\"bandana\"\n",
    "r=t.lstrip(\"ban\")\n",
    "print(r)"
   ]
  },
  {
   "cell_type": "code",
   "execution_count": 46,
   "metadata": {},
   "outputs": [
    {
     "name": "stdout",
     "output_type": "stream",
     "text": [
      "  bandana  \n"
     ]
    }
   ],
   "source": [
    "t=\"  bandana  \"\n",
    "r=t.lstrip(\"ban\")\n",
    "print(r)"
   ]
  },
  {
   "cell_type": "code",
   "execution_count": 43,
   "metadata": {},
   "outputs": [
    {
     "name": "stdout",
     "output_type": "stream",
     "text": [
      "From all fruits banana    is my fav\n"
     ]
    }
   ],
   "source": [
    "# 2.Removing spaces from string\n",
    "# (c) strip()\n",
    "t=\"   banana   \"\n",
    "r=t.lstrip()\n",
    "print(\"From all fruits\",r,\"is my fav\")"
   ]
  },
  {
   "cell_type": "code",
   "execution_count": 47,
   "metadata": {},
   "outputs": [
    {
     "name": "stdout",
     "output_type": "stream",
     "text": [
      "HELLO FRIENDS\n"
     ]
    }
   ],
   "source": [
    "# 3.Changing the case of string\n",
    "# (a) upper()\n",
    "t=\"Hello Friends\"\n",
    "x=t.upper()\n",
    "print(x)"
   ]
  },
  {
   "cell_type": "code",
   "execution_count": 48,
   "metadata": {},
   "outputs": [
    {
     "name": "stdout",
     "output_type": "stream",
     "text": [
      "hello friends\n"
     ]
    }
   ],
   "source": [
    "# 3.Changing the case of string\n",
    "# (b) lower()\n",
    "t=\"Hello Friends\"\n",
    "x=t.lower()\n",
    "print(x)"
   ]
  },
  {
   "cell_type": "code",
   "execution_count": 49,
   "metadata": {},
   "outputs": [
    {
     "name": "stdout",
     "output_type": "stream",
     "text": [
      "hELLO mY NAME IS diya\n"
     ]
    }
   ],
   "source": [
    "# 3.Changing the case of string\n",
    "# (c) swapcase()\n",
    "t=\"Hello My name is DIYA\"\n",
    "x=t.swapcase()\n",
    "print(x)"
   ]
  },
  {
   "cell_type": "code",
   "execution_count": 50,
   "metadata": {},
   "outputs": [
    {
     "name": "stdout",
     "output_type": "stream",
     "text": [
      "Welcome To Ljiet\n"
     ]
    }
   ],
   "source": [
    "# 3.Changing the case of string\n",
    "# (d) title()\n",
    "t=\"Welcome to LJIET\"\n",
    "x=t.title()\n",
    "print(x)"
   ]
  },
  {
   "cell_type": "code",
   "execution_count": 51,
   "metadata": {},
   "outputs": [
    {
     "name": "stdout",
     "output_type": "stream",
     "text": [
      "Learning python is very easy\n"
     ]
    }
   ],
   "source": [
    "# 3.Changing the case of string\n",
    "# (e) capitalize()\n",
    "t=\"Learning Python is very easy\"\n",
    "x=t.capitalize()\n",
    "print(x)"
   ]
  },
  {
   "cell_type": "code",
   "execution_count": 52,
   "metadata": {},
   "outputs": [
    {
     "name": "stdout",
     "output_type": "stream",
     "text": [
      "True\n"
     ]
    }
   ],
   "source": [
    "# 4.To check type of characters present in a string(check function)\n",
    "# Answer only in True or Falsee\n",
    "# (a) isalnum()   [a to z, A to Z, 0-9]\n",
    "t=\"company123\"\n",
    "x=t.isalnum()\n",
    "print(x)\n",
    "#Returns True if all elements are alpha-numeric"
   ]
  },
  {
   "cell_type": "code",
   "execution_count": 53,
   "metadata": {},
   "outputs": [
    {
     "name": "stdout",
     "output_type": "stream",
     "text": [
      "False\n"
     ]
    }
   ],
   "source": [
    "t=\"company 123\"\n",
    "x=t.isalnum()\n",
    "print(x)"
   ]
  },
  {
   "cell_type": "code",
   "execution_count": 57,
   "metadata": {},
   "outputs": [
    {
     "name": "stdout",
     "output_type": "stream",
     "text": [
      "False\n"
     ]
    }
   ],
   "source": [
    "# (b) isalpha()   [a to z, A to Z]\n",
    "t=\"company123\"\n",
    "x=t.isalpha()\n",
    "print(x)"
   ]
  },
  {
   "cell_type": "code",
   "execution_count": 56,
   "metadata": {},
   "outputs": [
    {
     "name": "stdout",
     "output_type": "stream",
     "text": [
      "True\n"
     ]
    }
   ],
   "source": [
    "t=\"companyx\"\n",
    "x=t.isalpha()\n",
    "print(x)"
   ]
  },
  {
   "cell_type": "code",
   "execution_count": 58,
   "metadata": {},
   "outputs": [
    {
     "name": "stdout",
     "output_type": "stream",
     "text": [
      "True\n"
     ]
    }
   ],
   "source": [
    "# (c) isdigit() or isnumeric()\n",
    "t=\"500500\"\n",
    "x=t.isdigit()\n",
    "print(x)"
   ]
  },
  {
   "cell_type": "code",
   "execution_count": 59,
   "metadata": {},
   "outputs": [
    {
     "name": "stdout",
     "output_type": "stream",
     "text": [
      "False\n"
     ]
    }
   ],
   "source": [
    "t=\"company123\"\n",
    "x=t.isnumeric()\n",
    "print(x)"
   ]
  },
  {
   "cell_type": "code",
   "execution_count": 64,
   "metadata": {},
   "outputs": [
    {
     "name": "stdout",
     "output_type": "stream",
     "text": [
      "True\n"
     ]
    }
   ],
   "source": [
    "# (d) islower()\n",
    "t=\"hello world!!\"\n",
    "x=t.islower()\n",
    "print(x)"
   ]
  },
  {
   "cell_type": "code",
   "execution_count": 65,
   "metadata": {},
   "outputs": [
    {
     "name": "stdout",
     "output_type": "stream",
     "text": [
      "True\n"
     ]
    }
   ],
   "source": [
    "# (e) isupper()\n",
    "t=\"HELLO WORLD!!\"\n",
    "x=t.isupper()\n",
    "print(x)"
   ]
  },
  {
   "cell_type": "code",
   "execution_count": 66,
   "metadata": {},
   "outputs": [
    {
     "name": "stdout",
     "output_type": "stream",
     "text": [
      "False\n",
      "True\n",
      "True\n",
      "True\n"
     ]
    }
   ],
   "source": [
    "# (f) istitle()\n",
    "a=\"HELLO HOW ARE YOU?\"\n",
    "b=\"Hello\"\n",
    "c=\"22 Names\"\n",
    "d=\"This Is %!\"\n",
    "print(a.istitle())\n",
    "print(b.istitle())\n",
    "print(c.istitle())\n",
    "print(d.istitle())"
   ]
  },
  {
   "cell_type": "code",
   "execution_count": 69,
   "metadata": {},
   "outputs": [
    {
     "name": "stdout",
     "output_type": "stream",
     "text": [
      "True\n",
      "True\n",
      "False\n",
      "False\n"
     ]
    }
   ],
   "source": [
    "# (g) isidentifier()\n",
    "a=\"MyFolder\"\n",
    "b=\"Demo002\"\n",
    "c=\"2demo\"\n",
    "d=\"my demo\"\n",
    "print(a.isidentifier())\n",
    "print(b.isidentifier())\n",
    "print(c.isidentifier())\n",
    "print(d.isidentifier())"
   ]
  },
  {
   "cell_type": "code",
   "execution_count": 71,
   "metadata": {},
   "outputs": [
    {
     "name": "stdout",
     "output_type": "stream",
     "text": [
      "False\n"
     ]
    }
   ],
   "source": [
    "# (h) isspace()\n",
    "t=\"  \"\n",
    "x=t.isspace()\n",
    "print(x)"
   ]
  },
  {
   "cell_type": "code",
   "execution_count": 75,
   "metadata": {},
   "outputs": [
    {
     "name": "stdout",
     "output_type": "stream",
     "text": [
      "letter= 0 digits= 2 space= 4 uppercase= 3 lowercase= 13 special char= 4\n"
     ]
    }
   ],
   "source": [
    "s=\"Pyt@$ho%n is 12 Very Ea$sy\"\n",
    "letters=0\n",
    "digits=0\n",
    "space=0\n",
    "specialchar=0\n",
    "upper=0\n",
    "lower=0\n",
    "for i in s:\n",
    "    if i.isupper():\n",
    "        upper=upper+1\n",
    "    elif i.islower():\n",
    "        lower=lower+1\n",
    "    elif i.isalpha():\n",
    "        letters=letters+1\n",
    "    elif i.isdigit():\n",
    "        digits=digits+1\n",
    "    elif i.isspace():\n",
    "        space=space+1\n",
    "    else:\n",
    "        specialchar=specialchar+1\n",
    "print(\"letter=\",letters,\"digits=\",digits,\"space=\",space,\"uppercase=\",upper,\"lowercase=\",lower,\"special char=\",specialchar)"
   ]
  },
  {
   "cell_type": "markdown",
   "metadata": {},
   "source": [
    "find()\n",
    "--\n",
    "syntax:\n",
    "\n",
    "s.find(substring)\n",
    "\n",
    "s.find(substring,begin,end)"
   ]
  },
  {
   "cell_type": "code",
   "execution_count": 79,
   "metadata": {},
   "outputs": [
    {
     "name": "stdout",
     "output_type": "stream",
     "text": [
      "2\n",
      "25\n",
      "9\n",
      "-1\n"
     ]
    }
   ],
   "source": [
    "s=\"Learning Python is very easy\"\n",
    "print(s.find(\"a\"))  \n",
    "print(s.find(\"a\",3,100))\n",
    "print(s.find(\"Python\"))\n",
    "print(s.find(\"d\"))\n",
    "# o/p is the index "
   ]
  },
  {
   "cell_type": "code",
   "execution_count": null,
   "metadata": {},
   "outputs": [],
   "source": []
  }
 ],
 "metadata": {
  "kernelspec": {
   "display_name": "Python 3",
   "language": "python",
   "name": "python3"
  },
  "language_info": {
   "codemirror_mode": {
    "name": "ipython",
    "version": 3
   },
   "file_extension": ".py",
   "mimetype": "text/x-python",
   "name": "python",
   "nbconvert_exporter": "python",
   "pygments_lexer": "ipython3",
   "version": "3.8.5"
  }
 },
 "nbformat": 4,
 "nbformat_minor": 4
}
