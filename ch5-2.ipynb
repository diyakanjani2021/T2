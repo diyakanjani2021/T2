{
 "cells": [
  {
   "cell_type": "markdown",
   "metadata": {},
   "source": [
    "Dictionary\n",
    "----\n",
    "1. represent a grp of objects as key value pairs\n",
    "- rollno-name\n",
    "- phoneno-add\n",
    "2. duplicate keys not allowed but values can be duplicated\n",
    "3. heterogeneous objects are allowed for both keys and values\n",
    "4. insertion order not preserved\n",
    "5. mutable\n",
    "6. indexing and slicing concepts are not applicable"
   ]
  },
  {
   "cell_type": "code",
   "execution_count": 3,
   "metadata": {},
   "outputs": [
    {
     "name": "stdout",
     "output_type": "stream",
     "text": [
      "{10: 40, 20: 30, 30: 60}\n",
      "{40, 10, 50, 20, 30}\n",
      "<class 'dict'>\n",
      "<class 'set'>\n"
     ]
    }
   ],
   "source": [
    "d={10:40,20:30,30:60} #dict\n",
    "s={10,20,30,40,50} #set\n",
    "print(d)\n",
    "print(s)\n",
    "d={} # d=dict()\n",
    "print(type(d))\n",
    "s=set()\n",
    "print(type(s))"
   ]
  },
  {
   "cell_type": "code",
   "execution_count": 12,
   "metadata": {},
   "outputs": [
    {
     "name": "stdout",
     "output_type": "stream",
     "text": [
      "{10: 'lucky', 20: 'arman', 30: 'aryan'}\n",
      "arman\n",
      "{10: 'sunny', 20: 'arman', 30: 'aryan'}\n",
      "{20: 'arman', 30: 'aryan'}\n",
      "{}\n"
     ]
    }
   ],
   "source": [
    "d={}\n",
    "d[10]=\"lucky\"\n",
    "d[20]=\"arman\"\n",
    "d[30]=\"aryan\"\n",
    "print(d)\n",
    "print(d[20])\n",
    "#print(d[40])  #KeyError\n",
    "if 40 in d:\n",
    "    print(d[40])\n",
    "d[10]=\"sunny\"\n",
    "print(d)\n",
    "del d[10]\n",
    "print(d)\n",
    "d.clear()\n",
    "print(d)\n",
    "del d\n",
    "#print(d) #NameError"
   ]
  },
  {
   "cell_type": "markdown",
   "metadata": {},
   "source": [
    "Dictionary Comprehension\n",
    "----"
   ]
  },
  {
   "cell_type": "code",
   "execution_count": 16,
   "metadata": {},
   "outputs": [
    {
     "name": "stdout",
     "output_type": "stream",
     "text": [
      "{1: 1, 2: 4, 3: 9, 4: 16, 5: 25}\n",
      "{10: 'a', 20: 'b', 30: 'c'}\n"
     ]
    }
   ],
   "source": [
    "square={x:x*x for x in range(1,6)}\n",
    "print(square)\n",
    "d=dict([(10,\"a\"),(20,\"b\"),(30,\"c\")])\n",
    "print(d)"
   ]
  },
  {
   "cell_type": "markdown",
   "metadata": {},
   "source": [
    "Imp Func of Dictionary\n",
    "----"
   ]
  },
  {
   "cell_type": "code",
   "execution_count": 19,
   "metadata": {},
   "outputs": [
    {
     "name": "stdout",
     "output_type": "stream",
     "text": [
      "{10: 20, 20: 40, 50: 60}\n",
      "{10: 100, 20: 40, 50: 60}\n",
      "{10: 20, 20: 40, 50: 60}\n"
     ]
    }
   ],
   "source": [
    "# 1.dict()\n",
    "# 2.len()\n",
    "# 3.clear()\n",
    "# 4.copy()\n",
    "d={10:20,20:40,50:60}\n",
    "print(d)\n",
    "x=d.copy()\n",
    "x[10]=100\n",
    "print(x)\n",
    "print(d)"
   ]
  },
  {
   "cell_type": "code",
   "execution_count": 21,
   "metadata": {},
   "outputs": [
    {
     "name": "stdout",
     "output_type": "stream",
     "text": [
      "{10: 'A', 20: 'B', 30: 'G', 40: 'D', 50: 'E', 60: 'F'}\n"
     ]
    }
   ],
   "source": [
    "# 5.update()\n",
    "d={10:'A',20:'B',30:'C'}\n",
    "x={40:'D',50:'E',60:'F',30:'G'}\n",
    "d.update(x)\n",
    "print(d)"
   ]
  },
  {
   "cell_type": "code",
   "execution_count": 24,
   "metadata": {},
   "outputs": [
    {
     "name": "stdout",
     "output_type": "stream",
     "text": [
      "A\n",
      "A\n",
      "None\n",
      "A\n",
      "guest\n"
     ]
    }
   ],
   "source": [
    "# 6.get()\n",
    "d={10:'A',20:'B',30:'C'}\n",
    "print(d[10])\n",
    "print(d.get(10))\n",
    "print(d.get(40))\n",
    "#print(d[40]) #KeyError\n",
    "print(d.get(10,\"guest\"))\n",
    "print(d.get(40,\"guest\"))"
   ]
  },
  {
   "cell_type": "code",
   "execution_count": 26,
   "metadata": {},
   "outputs": [
    {
     "name": "stdout",
     "output_type": "stream",
     "text": [
      "(30, 'aryan')\n",
      "{10: 'lucky', 20: 'arman'}\n",
      "(20, 'arman')\n",
      "(10, 'lucky')\n"
     ]
    },
    {
     "ename": "KeyError",
     "evalue": "'popitem(): dictionary is empty'",
     "output_type": "error",
     "traceback": [
      "\u001b[1;31m---------------------------------------------------------------------------\u001b[0m",
      "\u001b[1;31mKeyError\u001b[0m                                  Traceback (most recent call last)",
      "\u001b[1;32m<ipython-input-26-d6a05c2e638e>\u001b[0m in \u001b[0;36m<module>\u001b[1;34m\u001b[0m\n\u001b[0;32m      5\u001b[0m \u001b[0mprint\u001b[0m\u001b[1;33m(\u001b[0m\u001b[0md\u001b[0m\u001b[1;33m.\u001b[0m\u001b[0mpopitem\u001b[0m\u001b[1;33m(\u001b[0m\u001b[1;33m)\u001b[0m\u001b[1;33m)\u001b[0m\u001b[1;33m\u001b[0m\u001b[1;33m\u001b[0m\u001b[0m\n\u001b[0;32m      6\u001b[0m \u001b[0mprint\u001b[0m\u001b[1;33m(\u001b[0m\u001b[0md\u001b[0m\u001b[1;33m.\u001b[0m\u001b[0mpopitem\u001b[0m\u001b[1;33m(\u001b[0m\u001b[1;33m)\u001b[0m\u001b[1;33m)\u001b[0m\u001b[1;33m\u001b[0m\u001b[1;33m\u001b[0m\u001b[0m\n\u001b[1;32m----> 7\u001b[1;33m \u001b[0mprint\u001b[0m\u001b[1;33m(\u001b[0m\u001b[0md\u001b[0m\u001b[1;33m.\u001b[0m\u001b[0mpopitem\u001b[0m\u001b[1;33m(\u001b[0m\u001b[1;33m)\u001b[0m\u001b[1;33m)\u001b[0m\u001b[1;33m\u001b[0m\u001b[1;33m\u001b[0m\u001b[0m\n\u001b[0m\u001b[0;32m      8\u001b[0m \u001b[0mprint\u001b[0m\u001b[1;33m(\u001b[0m\u001b[0md\u001b[0m\u001b[1;33m)\u001b[0m\u001b[1;33m\u001b[0m\u001b[1;33m\u001b[0m\u001b[0m\n",
      "\u001b[1;31mKeyError\u001b[0m: 'popitem(): dictionary is empty'"
     ]
    }
   ],
   "source": [
    "# 7.popitem()\n",
    "d={10: 'lucky', 20: 'arman', 30: 'aryan'}\n",
    "print(d.popitem())\n",
    "print(d)\n",
    "print(d.popitem())\n",
    "print(d.popitem())\n",
    "print(d.popitem())\n",
    "print(d)"
   ]
  },
  {
   "cell_type": "code",
   "execution_count": 34,
   "metadata": {},
   "outputs": [
    {
     "name": "stdout",
     "output_type": "stream",
     "text": [
      "dict_keys([10, 20, 30])\n",
      "dict_values(['lucky', 'arman', 'aryan'])\n",
      "10 20 30 \n",
      "lucky arman aryan \n",
      "dict_items([(10, 'lucky'), (20, 'arman'), (30, 'aryan')])\n",
      "\n",
      "(10, 'lucky') (20, 'arman') (30, 'aryan') "
     ]
    }
   ],
   "source": [
    "# 8.keys()\n",
    "# 9.values()\n",
    "# 10.items()\n",
    "d={10: 'lucky', 20: 'arman', 30: 'aryan'}\n",
    "print(d.keys())\n",
    "print(d.values())\n",
    "for i in d.keys():\n",
    "    print(i,end=' ')\n",
    "print()\n",
    "for i in d.values():\n",
    "    print(i,end=' ')\n",
    "print()\n",
    "print(d.items())\n",
    "print()\n",
    "for i in d.items():\n",
    "    print(i,end=' ')"
   ]
  },
  {
   "cell_type": "code",
   "execution_count": 1,
   "metadata": {},
   "outputs": [
    {
     "name": "stdout",
     "output_type": "stream",
     "text": [
      "pavan\n",
      "{10: 'lucky', 20: 'arman', 30: 'aryan', 40: 'pavan'}\n",
      "lucky\n"
     ]
    }
   ],
   "source": [
    "# 11.setdefault()\n",
    "# syntax:d.setdefault(k,v)\n",
    "d={10: 'lucky', 20: 'arman', 30: 'aryan'}\n",
    "print(d.setdefault(40,\"pavan\"))\n",
    "print(d)\n",
    "print(d.setdefault(10,\"Sachin\"))"
   ]
  }
 ],
 "metadata": {
  "kernelspec": {
   "display_name": "Python 3",
   "language": "python",
   "name": "python3"
  },
  "language_info": {
   "codemirror_mode": {
    "name": "ipython",
    "version": 3
   },
   "file_extension": ".py",
   "mimetype": "text/x-python",
   "name": "python",
   "nbconvert_exporter": "python",
   "pygments_lexer": "ipython3",
   "version": "3.8.5"
  }
 },
 "nbformat": 4,
 "nbformat_minor": 4
}
